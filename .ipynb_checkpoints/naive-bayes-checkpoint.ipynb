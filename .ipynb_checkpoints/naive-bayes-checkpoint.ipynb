{
 "cells": [
  {
   "cell_type": "code",
   "execution_count": 47,
   "metadata": {
    "collapsed": false,
    "deletable": true,
    "editable": true
   },
   "outputs": [],
   "source": [
    "import os\n",
    "import io\n",
    "import numpy\n",
    "from pandas import DataFrame\n",
    "from sklearn.feature_extraction.text import CountVectorizer\n",
    "from sklearn.naive_bayes import MultinomialNB\n"
   ]
  },
  {
   "cell_type": "code",
   "execution_count": 53,
   "metadata": {
    "collapsed": false
   },
   "outputs": [
    {
     "data": {
      "text/html": [
       "<div>\n",
       "<style>\n",
       "    .dataframe thead tr:only-child th {\n",
       "        text-align: right;\n",
       "    }\n",
       "\n",
       "    .dataframe thead th {\n",
       "        text-align: left;\n",
       "    }\n",
       "\n",
       "    .dataframe tbody tr th {\n",
       "        vertical-align: top;\n",
       "    }\n",
       "</style>\n",
       "<table border=\"1\" class=\"dataframe\">\n",
       "  <thead>\n",
       "    <tr style=\"text-align: right;\">\n",
       "      <th></th>\n",
       "      <th>class</th>\n",
       "      <th>filename</th>\n",
       "      <th>message</th>\n",
       "    </tr>\n",
       "  </thead>\n",
       "  <tbody>\n",
       "    <tr>\n",
       "      <th>0</th>\n",
       "      <td>spam</td>\n",
       "      <td>D:\\DataScience-Python3\\emails\\spam\\00001.7848d...</td>\n",
       "      <td>&lt;!DOCTYPE HTML PUBLIC \"-//W3C//DTD HTML 4.0 Tr...</td>\n",
       "    </tr>\n",
       "    <tr>\n",
       "      <th>1</th>\n",
       "      <td>spam</td>\n",
       "      <td>D:\\DataScience-Python3\\emails\\spam\\00002.d94f1...</td>\n",
       "      <td>1) Fight The Risk of Cancer!\\n\\nhttp://www.adc...</td>\n",
       "    </tr>\n",
       "    <tr>\n",
       "      <th>2</th>\n",
       "      <td>spam</td>\n",
       "      <td>D:\\DataScience-Python3\\emails\\spam\\00003.2ee33...</td>\n",
       "      <td>1) Fight The Risk of Cancer!\\n\\nhttp://www.adc...</td>\n",
       "    </tr>\n",
       "    <tr>\n",
       "      <th>3</th>\n",
       "      <td>spam</td>\n",
       "      <td>D:\\DataScience-Python3\\emails\\spam\\00004.eac8d...</td>\n",
       "      <td>##############################################...</td>\n",
       "    </tr>\n",
       "    <tr>\n",
       "      <th>4</th>\n",
       "      <td>spam</td>\n",
       "      <td>D:\\DataScience-Python3\\emails\\spam\\00005.57696...</td>\n",
       "      <td>I thought you might like these:\\n\\n1) Slim Dow...</td>\n",
       "    </tr>\n",
       "  </tbody>\n",
       "</table>\n",
       "</div>"
      ],
      "text/plain": [
       "  class                                           filename  \\\n",
       "0  spam  D:\\DataScience-Python3\\emails\\spam\\00001.7848d...   \n",
       "1  spam  D:\\DataScience-Python3\\emails\\spam\\00002.d94f1...   \n",
       "2  spam  D:\\DataScience-Python3\\emails\\spam\\00003.2ee33...   \n",
       "3  spam  D:\\DataScience-Python3\\emails\\spam\\00004.eac8d...   \n",
       "4  spam  D:\\DataScience-Python3\\emails\\spam\\00005.57696...   \n",
       "\n",
       "                                             message  \n",
       "0  <!DOCTYPE HTML PUBLIC \"-//W3C//DTD HTML 4.0 Tr...  \n",
       "1  1) Fight The Risk of Cancer!\\n\\nhttp://www.adc...  \n",
       "2  1) Fight The Risk of Cancer!\\n\\nhttp://www.adc...  \n",
       "3  ##############################################...  \n",
       "4  I thought you might like these:\\n\\n1) Slim Dow...  "
      ]
     },
     "execution_count": 53,
     "metadata": {},
     "output_type": "execute_result"
    }
   ],
   "source": [
    "def readFiles(path):\n",
    "    for root, dirnames, filenames in os.walk(path):\n",
    "        for filename in filenames:\n",
    "            path = os.path.join(root, filename)\n",
    "\n",
    "            inBody = False\n",
    "            lines = []\n",
    "            f = io.open(path, 'r', encoding='latin1')\n",
    "            for line in f:\n",
    "                if inBody:\n",
    "                    lines.append(line)\n",
    "                elif line == '\\n':\n",
    "                    inBody = True\n",
    "            f.close()\n",
    "            message = '\\n'.join(lines)\n",
    "            yield path, message\n",
    "            \n",
    "def dataFrameFromDirectory(path, classification):\n",
    "    rows = []\n",
    "    for filename, message in readFiles(path):\n",
    "        rows.append({'message': message, 'class': classification, 'filename': filename})\n",
    "\n",
    "    return DataFrame(rows)\n",
    "\n",
    "data = DataFrame({'message': [], 'class': []})\n",
    "\n",
    "# data = data.append(dataFrameFromDirectory('C:\\\\Users\\mprah\\IPythonNotebooks\\spam-classifier\\emails\\train\\spam', 'spam'))\n",
    "# data = data.append(dataFrameFromDirectory('C:\\\\Users\\mprah\\IPythonNotebooks\\spam-classifier\\emails\\train\\ham', 'ham'))\n",
    "\n",
    "data = data.append(dataFrameFromDirectory('D:\\DataScience-Python3\\emails\\spam', 'spam'))\n",
    "data = data.append(dataFrameFromDirectory('D:\\DataScience-Python3\\emails\\ham', 'ham'))\n",
    "\n",
    "data.head()\n",
    "data.count()"
   ]
  },
  {
   "cell_type": "code",
   "execution_count": null,
   "metadata": {
    "collapsed": true
   },
   "outputs": [],
   "source": []
  },
  {
   "cell_type": "code",
   "execution_count": null,
   "metadata": {
    "collapsed": true
   },
   "outputs": [],
   "source": []
  }
 ],
 "metadata": {
  "kernelspec": {
   "display_name": "Python 3",
   "language": "python",
   "name": "python3"
  },
  "language_info": {
   "codemirror_mode": {
    "name": "ipython",
    "version": 3
   },
   "file_extension": ".py",
   "mimetype": "text/x-python",
   "name": "python",
   "nbconvert_exporter": "python",
   "pygments_lexer": "ipython3",
   "version": "3.5.2"
  }
 },
 "nbformat": 4,
 "nbformat_minor": 2
}
